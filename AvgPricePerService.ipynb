{
 "cells": [
  {
   "cell_type": "markdown",
   "id": "54657791-e101-4c90-8372-6dfae858cd9f",
   "metadata": {},
   "source": [
    "### Scenario\n",
    "\n",
    "Given a list of services and their historical pricing, determine what the average price is is per service while filtering out any extremities.\n",
    "\n",
    "Goal is to learn how to:\n",
    "1. Apply standard deviation\n",
    "2. Determine normal distribution vs. skewed distribution\n",
    "3. Present my findings in a scientific way using Jupyter"
   ]
  },
  {
   "cell_type": "markdown",
   "id": "00826d1e-5ac3-46eb-9ef1-52522ff4c727",
   "metadata": {
    "panel-layout": {
     "height": 51.1406,
     "visible": true,
     "width": 100
    }
   },
   "source": [
    "### 0. Setup\n",
    "---"
   ]
  },
  {
   "cell_type": "code",
   "execution_count": 7,
   "id": "c370c9d0-0db2-4f43-8c8f-fb4dbc91ed56",
   "metadata": {
    "panel-layout": {
     "height": 0,
     "visible": true,
     "width": 100
    }
   },
   "outputs": [],
   "source": [
    "import pandas as pd\n",
    "import numpy as np\n",
    "import matplotlib.pyplot as plt"
   ]
  },
  {
   "cell_type": "markdown",
   "id": "861eb214-60fd-4197-80eb-7a2d45b1eed7",
   "metadata": {
    "panel-layout": {
     "height": 51.140625,
     "visible": true,
     "width": 100
    }
   },
   "source": [
    "### 1. Import data\n",
    "---"
   ]
  },
  {
   "cell_type": "code",
   "execution_count": 16,
   "id": "1554a2a2-e5ac-4ba6-81db-68f2dd6ecc92",
   "metadata": {
    "panel-layout": {
     "height": 0,
     "visible": true,
     "width": 100
    }
   },
   "outputs": [
    {
     "name": "stdout",
     "output_type": "stream",
     "text": [
      "        Services   Pricing\n",
      "0      Service 2    241.46\n",
      "1      Service 1    332.71\n",
      "2      Service 5  42793.33\n",
      "3      Service 1    441.33\n",
      "4      Service 2    274.51\n",
      "...          ...       ...\n",
      "77433  Service 1    504.67\n",
      "77434  Service 1    237.33\n",
      "77435  Service 5      0.67\n",
      "77436  Service 3    475.33\n",
      "77437  Service 1    237.33\n",
      "\n",
      "[77438 rows x 2 columns]\n"
     ]
    }
   ],
   "source": [
    "filename = 'pricing_per_service_data.xlsx'\n",
    "data = pd.read_excel(filename)\n",
    "print(data)"
   ]
  },
  {
   "cell_type": "markdown",
   "id": "64447bb4-eedb-448c-9c7d-faf0740aec2f",
   "metadata": {},
   "source": [
    "### 2. Distribution\n",
    "---\n",
    "Now we need to determine the type of distribution. We can do this by using plotting a histogram on any service."
   ]
  },
  {
   "cell_type": "code",
   "execution_count": 17,
   "id": "b394cb45-bf28-4fd3-be39-357f72d832cd",
   "metadata": {},
   "outputs": [
    {
     "data": {
      "image/png": "[encoded data removed]",
      "text/plain": [
       "<Figure size 640x480 with 1 Axes>"
      ]
     },
     "metadata": {},
     "output_type": "display_data"
    }
   ],
   "source": [
    "plt.hist(data.query('Services == \"Service 4\"')['Pricing'], bins=50, edgecolor='black')\n",
    "plt.show()"
   ]
  },
  {
   "cell_type": "markdown",
   "id": "0f770f8a-9fff-4bde-bc9c-a1e2d65ff992",
   "metadata": {},
   "source": [
    "From the image above, we can conclude that the data is demonstrating a right-skewed distribution [[1](https://www.investopedia.com/terms/s/skewness.asp)]\n",
    "\n",
    "We can confirm this by calculating the mean and median. If mean > median then right-skewed, else if mean < median then left-skewed."
   ]
  },
  {
   "cell_type": "code",
   "execution_count": 20,
   "id": "9c56c9db-69f3-476f-9294-3d047de8a678",
   "metadata": {},
   "outputs": [
    {
     "name": "stdout",
     "output_type": "stream",
     "text": [
      "    Services   mean_price  median_price\n",
      "0  Service 1   352.532924        299.33\n",
      "1  Service 2   535.003393        497.33\n",
      "2  Service 3   685.267138        589.33\n",
      "3  Service 4   965.848165        717.33\n",
      "4  Service 5  1124.740546        758.67\n",
      "5  Service 6  3302.965842       2133.33\n"
     ]
    }
   ],
   "source": [
    "data_mean = data.groupby(by=[\"Services\"]).mean().reset_index()\n",
    "data_mean = data_mean.rename(columns= {\"Pricing\":\"mean_price\"})\n",
    "\n",
    "data_median = data.groupby(by=[\"Services\"]).median().reset_index()\n",
    "data_median = data_median.rename(columns= {\"Pricing\":\"median_price\"})\n",
    "\n",
    "print(pd.merge(data_mean, data_median, on=\"Services\", how=\"left\"))"
   ]
  },
  {
   "cell_type": "markdown",
   "id": "be660e5e-d9a6-4eef-9952-16be6c878f8e",
   "metadata": {},
   "source": [
    "### 3. Determine the range of acceptable pricing using standard deviation\n",
    "---\n",
    "Normally applying 2 times standard deviation from the mean would represent ~95% of the data while filtering any extremities.\n",
    "\n",
    "In this case we cannot expect ~95% but can still apply standard deviation in hopes of removing the outliers on the right while still representing a large amount of the data.\n",
    "\n",
    "Let's start by defining the upper and lower bounds of what price is acceptable per service using 1 time standard deviation."
   ]
  },
  {
   "cell_type": "code",
   "execution_count": 30,
   "id": "bb3cf400-aa0c-4413-88a2-35764150309d",
   "metadata": {},
   "outputs": [
    {
     "name": "stdout",
     "output_type": "stream",
     "text": [
      "    Services   mean_price  stddev_price  lower_bound  upper_bound\n",
      "0  Service 1   352.532924    304.941903    47.591021   657.474827\n",
      "1  Service 2   535.003393    401.600162   133.403231   936.603555\n",
      "2  Service 3   685.267138    502.968078   182.299061  1188.235216\n",
      "3  Service 4   965.848165    790.463817   175.384348  1756.311982\n",
      "4  Service 5  1124.740546   1462.001601  -337.261055  2586.742147\n",
      "5  Service 6  3302.965842   2848.286837   454.679004  6151.252679\n"
     ]
    }
   ],
   "source": [
    "data_stddev = data.groupby(by=[\"Services\"]).std().reset_index()\n",
    "data_stddev = data_stddev.rename(columns= {\"Pricing\":\"stddev_price\"})\n",
    "bounds = pd.merge(data_mean, data_stddev, on=\"Services\", how=\"left\")\n",
    "                  \n",
    "stddev_num = 1\n",
    "bounds = bounds.assign(lower_bound = bounds.mean_price - stddev_num*bounds.stddev_price)\n",
    "bounds = bounds.assign(upper_bound = bounds.mean_price + stddev_num*bounds.stddev_price)\n",
    "print(bounds)"
   ]
  },
  {
   "cell_type": "markdown",
   "id": "d24bb556-0bfc-4982-8ba6-9d2faad109b1",
   "metadata": {},
   "source": [
    "### 4. Apply bounds\n",
    "---\n",
    "Now we apply our bounds and label each row with a decision: keep or delete."
   ]
  },
  {
   "cell_type": "code",
   "execution_count": 34,
   "id": "66b77c40-81a3-499d-8a70-b3cd8544585e",
   "metadata": {},
   "outputs": [
    {
     "name": "stdout",
     "output_type": "stream",
     "text": [
      "        Services   Pricing   mean_price  stddev_price  lower_bound  \\\n",
      "0      Service 2    241.46   535.003393    401.600162   133.403231   \n",
      "1      Service 1    332.71   352.532924    304.941903    47.591021   \n",
      "2      Service 5  42793.33  1124.740546   1462.001601  -337.261055   \n",
      "3      Service 1    441.33   352.532924    304.941903    47.591021   \n",
      "4      Service 2    274.51   535.003393    401.600162   133.403231   \n",
      "...          ...       ...          ...           ...          ...   \n",
      "77433  Service 1    504.67   352.532924    304.941903    47.591021   \n",
      "77434  Service 1    237.33   352.532924    304.941903    47.591021   \n",
      "77435  Service 5      0.67  1124.740546   1462.001601  -337.261055   \n",
      "77436  Service 3    475.33   685.267138    502.968078   182.299061   \n",
      "77437  Service 1    237.33   352.532924    304.941903    47.591021   \n",
      "\n",
      "       upper_bound decision  \n",
      "0       936.603555     keep  \n",
      "1       657.474827     keep  \n",
      "2      2586.742147   delete  \n",
      "3       657.474827     keep  \n",
      "4       936.603555     keep  \n",
      "...            ...      ...  \n",
      "77433   657.474827     keep  \n",
      "77434   657.474827     keep  \n",
      "77435  2586.742147     keep  \n",
      "77436  1188.235216     keep  \n",
      "77437   657.474827     keep  \n",
      "\n",
      "[77438 rows x 7 columns]\n"
     ]
    }
   ],
   "source": [
    "data_filtered = pd.merge(data, bounds, on=\"Services\", how=\"left\")\n",
    "data_filtered['decision'] = data_filtered.apply(lambda row: \"keep\" if (row['lower_bound'] <= row['Pricing'] and row['Pricing'] <= row['upper_bound']) else \"delete\", axis=1)\n",
    "print(data_filtered)"
   ]
  },
  {
   "cell_type": "markdown",
   "id": "b628b7d0-1c77-421b-ab3a-df21318aabe3",
   "metadata": {},
   "source": [
    "### 5. Results\n",
    "---\n",
    "Filter the data then check the histogram again"
   ]
  },
  {
   "cell_type": "code",
   "execution_count": 36,
   "id": "9b9779f6-140e-45c3-8b13-0a6267e8accc",
   "metadata": {},
   "outputs": [
    {
     "data": {
      "image/png": "[encoded data removed]",
      "text/plain": [
       "<Figure size 640x480 with 1 Axes>"
      ]
     },
     "metadata": {},
     "output_type": "display_data"
    }
   ],
   "source": [
    "data_filtered = data_filtered.query('decision == \"keep\"')\n",
    "plt.hist(data_filtered.query('Services == \"Service 4\"')['Pricing'], bins=50, edgecolor='black')\n",
    "plt.show()"
   ]
  },
  {
   "cell_type": "markdown",
   "id": "c660dee5-89d0-4ed7-831f-6346d61e24a1",
   "metadata": {},
   "source": [
    "### 6. Conclusion\n",
    "---\n",
    "After filtering out the extremities, we can see that the peak is now closer to the center of the distribution.\n",
    "We can also check how much of the data is being represented after filtering"
   ]
  },
  {
   "cell_type": "code",
   "execution_count": 47,
   "id": "e5585fb3-3d4d-4563-bc98-946f40621aa6",
   "metadata": {},
   "outputs": [
    {
     "name": "stdout",
     "output_type": "stream",
     "text": [
      "           Pricing  decision  Percentage\n",
      "Services                                \n",
      "Service 1    51683     49360   95.505292\n",
      "Service 2    16813     15790   93.915423\n",
      "Service 3     1929      1710   88.646967\n",
      "Service 4      109        97   88.990826\n",
      "Service 5     6298      5781   91.791045\n",
      "Service 6      606       511   84.323432\n"
     ]
    }
   ],
   "source": [
    "data_representation = pd.merge(data.groupby(by=[\"Services\"]).count(), data_filtered[[\"Services\", \"decision\"]].groupby(by=[\"Services\"]).count(), on=\"Services\", how=\"left\")\n",
    "#data_filtered['decision'] = data_filtered.apply(lambda row: \"keep\" if (row['lower_bound'] <= row['Pricing'] and row['Pricing'] <= row['upper_bound']) else \"delete\", axis=1)\n",
    "data_representation = data_representation.assign(Percentage = data_representation.decision/data_representation.Pricing*100)\n",
    "print(data_representation)"
   ]
  },
  {
   "cell_type": "code",
   "execution_count": null,
   "id": "e70117bb-4b40-4511-a4c5-5f18b0fd072b",
   "metadata": {},
   "outputs": [],
   "source": []
  }
 ],
 "metadata": {
  "kernelspec": {
   "display_name": "Python 3 (ipykernel)",
   "language": "python",
   "name": "python3"
  },
  "language_info": {
   "codemirror_mode": {
    "name": "ipython",
    "version": 3
   },
   "file_extension": ".py",
   "mimetype": "text/x-python",
   "name": "python",
   "nbconvert_exporter": "python",
   "pygments_lexer": "ipython3",
   "version": "3.12.3"
  },
  "panel-cell-order": [
   "00826d1e-5ac3-46eb-9ef1-52522ff4c727",
   "c370c9d0-0db2-4f43-8c8f-fb4dbc91ed56",
   "861eb214-60fd-4197-80eb-7a2d45b1eed7",
   "1554a2a2-e5ac-4ba6-81db-68f2dd6ecc92"
  ]
 },
 "nbformat": 4,
 "nbformat_minor": 5
}
