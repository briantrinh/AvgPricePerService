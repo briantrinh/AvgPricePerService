{
 "cells": [
  {
   "cell_type": "markdown",
   "id": "00826d1e-5ac3-46eb-9ef1-52522ff4c727",
   "metadata": {
    "panel-layout": {
     "height": 51.1406,
     "visible": true,
     "width": 100
    }
   },
   "source": [
    "### Setup\n",
    "---"
   ]
  },
  {
   "cell_type": "code",
   "execution_count": 9,
   "id": "c370c9d0-0db2-4f43-8c8f-fb4dbc91ed56",
   "metadata": {
    "panel-layout": {
     "height": 0,
     "visible": true,
     "width": 100
    }
   },
   "outputs": [],
   "source": [
    "import pandas as pd\n",
    "import numpy as np\n",
    "import matplotlib.pyplot as plt"
   ]
  },
  {
   "cell_type": "markdown",
   "id": "861eb214-60fd-4197-80eb-7a2d45b1eed7",
   "metadata": {
    "panel-layout": {
     "height": 51.140625,
     "visible": true,
     "width": 100
    }
   },
   "source": [
    "### 1. Import data\n",
    "---"
   ]
  },
  {
   "cell_type": "code",
   "execution_count": 10,
   "id": "1554a2a2-e5ac-4ba6-81db-68f2dd6ecc92",
   "metadata": {
    "panel-layout": {
     "height": 0,
     "visible": true,
     "width": 100
    }
   },
   "outputs": [
    {
     "name": "stdout",
     "output_type": "stream",
     "text": [
      "        Services   Pricing\n",
      "0      Service 2    241.46\n",
      "1      Service 1    332.71\n",
      "2      Service 5  42793.33\n",
      "3      Service 1    441.33\n",
      "4      Service 2    274.51\n",
      "...          ...       ...\n",
      "77433  Service 1    504.67\n",
      "77434  Service 1    237.33\n",
      "77435  Service 5      0.67\n",
      "77436  Service 3    475.33\n",
      "77437  Service 1    237.33\n",
      "\n",
      "[77438 rows x 2 columns]\n"
     ]
    }
   ],
   "source": [
    "filename = 'pricing_per_service_data.xlsx'\n",
    "data = pd.read_excel(filename)\n",
    "print(data)"
   ]
  },
  {
   "cell_type": "code",
   "execution_count": null,
   "id": "8c2b1a78-6747-4bfc-af58-2eaaf91c5d25",
   "metadata": {},
   "outputs": [],
   "source": []
  },
  {
   "cell_type": "code",
   "execution_count": null,
   "id": "b394cb45-bf28-4fd3-be39-357f72d832cd",
   "metadata": {},
   "outputs": [],
   "source": []
  }
 ],
 "metadata": {
  "kernelspec": {
   "display_name": "Python 3 (ipykernel)",
   "language": "python",
   "name": "python3"
  },
  "language_info": {
   "codemirror_mode": {
    "name": "ipython",
    "version": 3
   },
   "file_extension": ".py",
   "mimetype": "text/x-python",
   "name": "python",
   "nbconvert_exporter": "python",
   "pygments_lexer": "ipython3",
   "version": "3.12.3"
  },
  "panel-cell-order": [
   "00826d1e-5ac3-46eb-9ef1-52522ff4c727",
   "c370c9d0-0db2-4f43-8c8f-fb4dbc91ed56",
   "861eb214-60fd-4197-80eb-7a2d45b1eed7",
   "1554a2a2-e5ac-4ba6-81db-68f2dd6ecc92"
  ]
 },
 "nbformat": 4,
 "nbformat_minor": 5
}
